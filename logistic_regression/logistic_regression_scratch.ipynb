{
 "cells": [
  {
   "cell_type": "code",
   "execution_count": 1,
   "metadata": {},
   "outputs": [],
   "source": [
    "import pandas as pd\n",
    "from sklearn.datasets import load_iris, load_breast_cancer\n",
    "from sklearn.model_selection import train_test_split\n",
    "\n",
    "# Load Iris dataset\n",
    "iris = load_iris()\n",
    "iris_df = pd.DataFrame(data=iris.data, columns=iris.feature_names)\n",
    "iris_df['target'] = iris.target\n",
    "\n"
   ]
  },
  {
   "cell_type": "code",
   "execution_count": 2,
   "metadata": {},
   "outputs": [],
   "source": [
    "# Load Breast Cancer dataset\n",
    "breast_cancer = load_breast_cancer()\n",
    "breast_cancer_df = pd.DataFrame(data=breast_cancer.data, columns=breast_cancer.feature_names)\n",
    "breast_cancer_df['target'] = breast_cancer.target"
   ]
  },
  {
   "cell_type": "code",
   "execution_count": 3,
   "metadata": {},
   "outputs": [],
   "source": [
    "# Split Iris dataset into training and testing sets\n",
    "X_train_iris, X_test_iris, y_train_iris, y_test_iris = train_test_split(\n",
    "    iris_df.drop(columns=['target']), iris_df['target'], test_size=0.2, random_state=42)\n",
    "\n",
    "# Split Breast Cancer dataset into training and testing sets\n",
    "X_train_bc, X_test_bc, y_train_bc, y_test_bc = train_test_split(\n",
    "    breast_cancer_df.drop(columns=['target']), breast_cancer_df['target'], test_size=0.2, random_state=42)"
   ]
  },
  {
   "cell_type": "code",
   "execution_count": 4,
   "metadata": {},
   "outputs": [],
   "source": [
    "import numpy as np\n",
    "import matplotlib.pyplot as plt\n",
    "\n",
    "class LogisticRegression:\n",
    "    def __init__(self, learning_rate=0.01, num_iterations=1000):\n",
    "        self.learning_rate = learning_rate\n",
    "        self.num_iterations = num_iterations\n",
    "        self.losses = []\n",
    "\n",
    "    def sigmoid(self, z):\n",
    "        # Clip values to avoid overflow\n",
    "        z = np.clip(z, -500, 500)\n",
    "        return 1 / (1 + np.exp(-z))\n",
    "\n",
    "    def compute_loss(self, y, y_predicted):\n",
    "        # Clip values to avoid log(0)\n",
    "        y_predicted = np.clip(y_predicted, 1e-15, 1 - 1e-15)\n",
    "        return -np.mean(y * np.log(y_predicted) + (1 - y) * np.log(1 - y_predicted))\n",
    "\n",
    "    def fit(self, X, y):\n",
    "        self.m, self.n = X.shape\n",
    "        self.weights = np.zeros(self.n)\n",
    "        self.bias = 0\n",
    "\n",
    "        for i in range(self.num_iterations):\n",
    "            linear_model = np.dot(X, self.weights) + self.bias\n",
    "            y_predicted = self.sigmoid(linear_model)\n",
    "\n",
    "            dw = (1 / self.m) * np.dot(X.T, (y_predicted - y))\n",
    "            db = (1 / self.m) * np.sum(y_predicted - y)\n",
    "\n",
    "            self.weights -= self.learning_rate * dw\n",
    "            self.bias -= self.learning_rate * db\n",
    "\n",
    "            # Compute and store the loss\n",
    "            loss = self.compute_loss(y, y_predicted)\n",
    "            self.losses.append(loss)\n",
    "\n",
    "            # Debugging: Print loss every 100 iterations\n",
    "            if i % 100 == 0:\n",
    "                print(f'Iteration {i}: Loss = {loss}')\n",
    "\n",
    "    def predict(self, X):\n",
    "        linear_model = np.dot(X, self.weights) + self.bias\n",
    "        y_predicted = self.sigmoid(linear_model)\n",
    "        y_predicted_cls = [1 if i > 0.5 else 0 for i in y_predicted]\n",
    "        return np.array(y_predicted_cls)"
   ]
  },
  {
   "cell_type": "code",
   "execution_count": 5,
   "metadata": {},
   "outputs": [],
   "source": [
    "# Prepare the data\n",
    "X_train_iris = X_train_iris.values\n",
    "X_test_iris = X_test_iris.values\n",
    "y_train_iris = y_train_iris.values\n",
    "y_test_iris = y_test_iris.values\n",
    "\n",
    "X_train_bc = X_train_bc.values\n",
    "X_test_bc = X_test_bc.values\n",
    "y_train_bc = y_train_bc.values\n",
    "y_test_bc = y_test_bc.values\n"
   ]
  },
  {
   "cell_type": "code",
   "execution_count": 13,
   "metadata": {},
   "outputs": [
    {
     "name": "stdout",
     "output_type": "stream",
     "text": [
      "Iteration 0: Loss = 0.6931471805599453\n",
      "Iris Dataset Accuracy: 0.30\n"
     ]
    }
   ],
   "source": [
    "# Logistic Regression for Iris dataset\n",
    "log_reg_iris = LogisticRegression(learning_rate=0.01, num_iterations=10)\n",
    "log_reg_iris.fit(X_train_iris, y_train_iris)\n",
    "y_pred_iris = log_reg_iris.predict(X_test_iris)\n",
    "accuracy_iris = np.mean(y_pred_iris == y_test_iris)\n",
    "print(f'Iris Dataset Accuracy: {accuracy_iris:.2f}')"
   ]
  },
  {
   "cell_type": "code",
   "execution_count": 14,
   "metadata": {},
   "outputs": [
    {
     "data": {
      "image/png": "[encoded data removed]",
      "text/plain": [
       "<Figure size 640x480 with 1 Axes>"
      ]
     },
     "metadata": {},
     "output_type": "display_data"
    }
   ],
   "source": [
    "# Plot the loss for Iris dataset\n",
    "plt.plot(log_reg_iris.losses)\n",
    "plt.title('Loss Curve for Iris Dataset')\n",
    "plt.xlabel('Iteration')\n",
    "plt.ylabel('Loss')\n",
    "plt.show()"
   ]
  },
  {
   "cell_type": "code",
   "execution_count": 15,
   "metadata": {},
   "outputs": [
    {
     "name": "stdout",
     "output_type": "stream",
     "text": [
      "Iteration 0: Loss = 0.6931471805599453\n",
      "Breast Cancer Dataset Accuracy: 0.38\n"
     ]
    }
   ],
   "source": [
    "# Logistic Regression for Breast Cancer dataset\n",
    "log_reg_bc = LogisticRegression(learning_rate=0.01, num_iterations=10)\n",
    "log_reg_bc.fit(X_train_bc, y_train_bc)\n",
    "y_pred_bc = log_reg_bc.predict(X_test_bc)\n",
    "accuracy_bc = np.mean(y_pred_bc == y_test_bc)\n",
    "print(f'Breast Cancer Dataset Accuracy: {accuracy_bc:.2f}')\n"
   ]
  }
 ],
 "metadata": {
  "kernelspec": {
   "display_name": "Python 3",
   "language": "python",
   "name": "python3"
  },
  "language_info": {
   "codemirror_mode": {
    "name": "ipython",
    "version": 3
   },
   "file_extension": ".py",
   "mimetype": "text/x-python",
   "name": "python",
   "nbconvert_exporter": "python",
   "pygments_lexer": "ipython3",
   "version": "3.12.4"
  }
 },
 "nbformat": 4,
 "nbformat_minor": 4
}
